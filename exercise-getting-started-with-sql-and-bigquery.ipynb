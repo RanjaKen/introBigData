{
 "cells": [
  {
   "cell_type": "markdown",
   "id": "cbc39867",
   "metadata": {
    "papermill": {
     "duration": 0.008837,
     "end_time": "2024-07-04T07:41:41.307504",
     "exception": false,
     "start_time": "2024-07-04T07:41:41.298667",
     "status": "completed"
    },
    "tags": []
   },
   "source": [
    "**This notebook is an exercise in the [SQL](https://www.kaggle.com/learn/intro-to-sql) course.  You can reference the tutorial at [this link](https://www.kaggle.com/dansbecker/getting-started-with-sql-and-bigquery).**\n",
    "\n",
    "---\n"
   ]
  },
  {
   "cell_type": "markdown",
   "id": "9bebac92",
   "metadata": {
    "papermill": {
     "duration": 0.007317,
     "end_time": "2024-07-04T07:41:41.322629",
     "exception": false,
     "start_time": "2024-07-04T07:41:41.315312",
     "status": "completed"
    },
    "tags": []
   },
   "source": [
    "# Introduction\n",
    "\n",
    "The first test of your new data exploration skills uses data describing crime in the city of Chicago.\n",
    "\n",
    "Before you get started, run the following cell. It sets up the automated feedback system to review your answers."
   ]
  },
  {
   "cell_type": "code",
   "execution_count": 1,
   "id": "a3360a7f",
   "metadata": {
    "execution": {
     "iopub.execute_input": "2024-07-04T07:41:41.339852Z",
     "iopub.status.busy": "2024-07-04T07:41:41.339470Z",
     "iopub.status.idle": "2024-07-04T07:41:49.540064Z",
     "shell.execute_reply": "2024-07-04T07:41:49.538623Z"
    },
    "papermill": {
     "duration": 8.212579,
     "end_time": "2024-07-04T07:41:49.542991",
     "exception": false,
     "start_time": "2024-07-04T07:41:41.330412",
     "status": "completed"
    },
    "tags": []
   },
   "outputs": [
    {
     "name": "stdout",
     "output_type": "stream",
     "text": [
      "Using Kaggle's public dataset BigQuery integration.\n",
      "Setup Complete\n"
     ]
    }
   ],
   "source": [
    "# Set up feedack system\n",
    "from learntools.core import binder\n",
    "binder.bind(globals())\n",
    "from learntools.sql.ex1 import *\n",
    "print(\"Setup Complete\")"
   ]
  },
  {
   "cell_type": "markdown",
   "id": "3ff5bb3d",
   "metadata": {
    "papermill": {
     "duration": 0.007802,
     "end_time": "2024-07-04T07:41:49.559028",
     "exception": false,
     "start_time": "2024-07-04T07:41:49.551226",
     "status": "completed"
    },
    "tags": []
   },
   "source": [
    "Use the next code cell to fetch the dataset."
   ]
  },
  {
   "cell_type": "code",
   "execution_count": 2,
   "id": "513af905",
   "metadata": {
    "execution": {
     "iopub.execute_input": "2024-07-04T07:41:49.578368Z",
     "iopub.status.busy": "2024-07-04T07:41:49.576858Z",
     "iopub.status.idle": "2024-07-04T07:41:50.178471Z",
     "shell.execute_reply": "2024-07-04T07:41:50.177240Z"
    },
    "papermill": {
     "duration": 0.614089,
     "end_time": "2024-07-04T07:41:50.181400",
     "exception": false,
     "start_time": "2024-07-04T07:41:49.567311",
     "status": "completed"
    },
    "tags": []
   },
   "outputs": [
    {
     "name": "stdout",
     "output_type": "stream",
     "text": [
      "Using Kaggle's public dataset BigQuery integration.\n"
     ]
    }
   ],
   "source": [
    "from google.cloud import bigquery\n",
    "\n",
    "# Create a \"Client\" object\n",
    "client = bigquery.Client()\n",
    "\n",
    "# Construct a reference to the \"chicago_crime\" dataset\n",
    "dataset_ref = client.dataset(\"chicago_crime\", project=\"bigquery-public-data\")\n",
    "\n",
    "# API request - fetch the dataset\n",
    "dataset = client.get_dataset(dataset_ref)"
   ]
  },
  {
   "cell_type": "markdown",
   "id": "76c719c9",
   "metadata": {
    "papermill": {
     "duration": 0.007725,
     "end_time": "2024-07-04T07:41:50.197310",
     "exception": false,
     "start_time": "2024-07-04T07:41:50.189585",
     "status": "completed"
    },
    "tags": []
   },
   "source": [
    "# Exercises\n",
    "\n",
    "### 1) Count tables in the dataset\n",
    "\n",
    "How many tables are in the Chicago Crime dataset?"
   ]
  },
  {
   "cell_type": "code",
   "execution_count": 3,
   "id": "c395f286",
   "metadata": {
    "execution": {
     "iopub.execute_input": "2024-07-04T07:41:50.215216Z",
     "iopub.status.busy": "2024-07-04T07:41:50.214812Z",
     "iopub.status.idle": "2024-07-04T07:41:50.715091Z",
     "shell.execute_reply": "2024-07-04T07:41:50.713824Z"
    },
    "papermill": {
     "duration": 0.512481,
     "end_time": "2024-07-04T07:41:50.717838",
     "exception": false,
     "start_time": "2024-07-04T07:41:50.205357",
     "status": "completed"
    },
    "tags": []
   },
   "outputs": [
    {
     "name": "stdout",
     "output_type": "stream",
     "text": [
      "crime\n"
     ]
    }
   ],
   "source": [
    "# Write the code you need here to figure out the answer\n",
    "tables = client.list_tables(dataset)\n",
    "for table in tables: \n",
    "    print(table.table_id)"
   ]
  },
  {
   "cell_type": "markdown",
   "id": "d5446aad",
   "metadata": {
    "papermill": {
     "duration": 0.008177,
     "end_time": "2024-07-04T07:41:50.734214",
     "exception": false,
     "start_time": "2024-07-04T07:41:50.726037",
     "status": "completed"
    },
    "tags": []
   },
   "source": []
  },
  {
   "cell_type": "markdown",
   "id": "f92467e3",
   "metadata": {
    "papermill": {
     "duration": 0.008122,
     "end_time": "2024-07-04T07:41:50.750533",
     "exception": false,
     "start_time": "2024-07-04T07:41:50.742411",
     "status": "completed"
    },
    "tags": []
   },
   "source": []
  },
  {
   "cell_type": "code",
   "execution_count": 4,
   "id": "fe5617b7",
   "metadata": {
    "execution": {
     "iopub.execute_input": "2024-07-04T07:41:50.768877Z",
     "iopub.status.busy": "2024-07-04T07:41:50.768462Z",
     "iopub.status.idle": "2024-07-04T07:41:50.779869Z",
     "shell.execute_reply": "2024-07-04T07:41:50.778821Z"
    },
    "papermill": {
     "duration": 0.023501,
     "end_time": "2024-07-04T07:41:50.782465",
     "exception": false,
     "start_time": "2024-07-04T07:41:50.758964",
     "status": "completed"
    },
    "tags": []
   },
   "outputs": [
    {
     "data": {
      "application/javascript": [
       "parent.postMessage({\"jupyterEvent\": \"custom.exercise_interaction\", \"data\": {\"outcomeType\": 1, \"valueTowardsCompletion\": 0.3333333333333333, \"interactionType\": 1, \"questionType\": 1, \"questionId\": \"1_CountTables\", \"learnToolsVersion\": \"0.3.4\", \"failureMessage\": \"\", \"exceptionClass\": \"\", \"trace\": \"\"}}, \"*\")"
      ],
      "text/plain": [
       "<IPython.core.display.Javascript object>"
      ]
     },
     "metadata": {},
     "output_type": "display_data"
    },
    {
     "data": {
      "text/markdown": [
       "<span style=\"color:#33cc33\">Correct</span>"
      ],
      "text/plain": [
       "Correct"
      ]
     },
     "metadata": {},
     "output_type": "display_data"
    }
   ],
   "source": [
    "num_tables = 1# Store the answer as num_tables and then run this cell\n",
    "\n",
    "\n",
    "# Check your answer\n",
    "\n",
    "q_1.check()"
   ]
  },
  {
   "cell_type": "markdown",
   "id": "1487aac1",
   "metadata": {
    "papermill": {
     "duration": 0.008226,
     "end_time": "2024-07-04T07:41:50.799214",
     "exception": false,
     "start_time": "2024-07-04T07:41:50.790988",
     "status": "completed"
    },
    "tags": []
   },
   "source": [
    "For a hint or the solution, uncomment the appropriate line below."
   ]
  },
  {
   "cell_type": "code",
   "execution_count": 5,
   "id": "681033e8",
   "metadata": {
    "execution": {
     "iopub.execute_input": "2024-07-04T07:41:50.818137Z",
     "iopub.status.busy": "2024-07-04T07:41:50.817740Z",
     "iopub.status.idle": "2024-07-04T07:41:50.831422Z",
     "shell.execute_reply": "2024-07-04T07:41:50.830374Z"
    },
    "papermill": {
     "duration": 0.026303,
     "end_time": "2024-07-04T07:41:50.834158",
     "exception": false,
     "start_time": "2024-07-04T07:41:50.807855",
     "status": "completed"
    },
    "tags": []
   },
   "outputs": [
    {
     "data": {
      "application/javascript": [
       "parent.postMessage({\"jupyterEvent\": \"custom.exercise_interaction\", \"data\": {\"interactionType\": 2, \"questionType\": 1, \"questionId\": \"1_CountTables\", \"learnToolsVersion\": \"0.3.4\", \"valueTowardsCompletion\": 0.0, \"failureMessage\": \"\", \"exceptionClass\": \"\", \"trace\": \"\", \"outcomeType\": 4}}, \"*\")"
      ],
      "text/plain": [
       "<IPython.core.display.Javascript object>"
      ]
     },
     "metadata": {},
     "output_type": "display_data"
    },
    {
     "data": {
      "text/markdown": [
       "<span style=\"color:#3366cc\">Hint:</span> Use the `list_tables()` method to get a list of the tables in the dataset."
      ],
      "text/plain": [
       "Hint: Use the `list_tables()` method to get a list of the tables in the dataset."
      ]
     },
     "metadata": {},
     "output_type": "display_data"
    },
    {
     "data": {
      "application/javascript": [
       "parent.postMessage({\"jupyterEvent\": \"custom.exercise_interaction\", \"data\": {\"interactionType\": 3, \"questionType\": 1, \"questionId\": \"1_CountTables\", \"learnToolsVersion\": \"0.3.4\", \"valueTowardsCompletion\": 0.0, \"failureMessage\": \"\", \"exceptionClass\": \"\", \"trace\": \"\", \"outcomeType\": 4}}, \"*\")"
      ],
      "text/plain": [
       "<IPython.core.display.Javascript object>"
      ]
     },
     "metadata": {},
     "output_type": "display_data"
    },
    {
     "data": {
      "text/markdown": [
       "<span style=\"color:#33cc99\">Solution:</span> \n",
       "```python\n",
       "\n",
       "# List all the tables in the \"chicago_crime\" dataset\n",
       "tables = list(client.list_tables(dataset))\n",
       "\n",
       "# Print number of tables in the dataset\n",
       "print(len(tables))\n",
       "\n",
       "num_tables = 1\n",
       "\n",
       "```"
      ],
      "text/plain": [
       "Solution: \n",
       "```python\n",
       "\n",
       "# List all the tables in the \"chicago_crime\" dataset\n",
       "tables = list(client.list_tables(dataset))\n",
       "\n",
       "# Print number of tables in the dataset\n",
       "print(len(tables))\n",
       "\n",
       "num_tables = 1\n",
       "\n",
       "```"
      ]
     },
     "metadata": {},
     "output_type": "display_data"
    }
   ],
   "source": [
    "q_1.hint()\n",
    "q_1.solution()"
   ]
  },
  {
   "cell_type": "markdown",
   "id": "e70d01ce",
   "metadata": {
    "papermill": {
     "duration": 0.008981,
     "end_time": "2024-07-04T07:41:50.852632",
     "exception": false,
     "start_time": "2024-07-04T07:41:50.843651",
     "status": "completed"
    },
    "tags": []
   },
   "source": [
    "### 2) Explore the table schema\n",
    "\n",
    "How many columns in the `crime` table have `TIMESTAMP` data?"
   ]
  },
  {
   "cell_type": "code",
   "execution_count": 6,
   "id": "fc6154fd",
   "metadata": {
    "execution": {
     "iopub.execute_input": "2024-07-04T07:41:50.872658Z",
     "iopub.status.busy": "2024-07-04T07:41:50.872241Z",
     "iopub.status.idle": "2024-07-04T07:41:51.393586Z",
     "shell.execute_reply": "2024-07-04T07:41:51.392006Z"
    },
    "papermill": {
     "duration": 0.534976,
     "end_time": "2024-07-04T07:41:51.396694",
     "exception": false,
     "start_time": "2024-07-04T07:41:50.861718",
     "status": "completed"
    },
    "tags": []
   },
   "outputs": [
    {
     "data": {
      "text/plain": [
       "[SchemaField('unique_key', 'INTEGER', 'REQUIRED', None, (), None),\n",
       " SchemaField('case_number', 'STRING', 'NULLABLE', None, (), None),\n",
       " SchemaField('date', 'TIMESTAMP', 'NULLABLE', None, (), None),\n",
       " SchemaField('block', 'STRING', 'NULLABLE', None, (), None),\n",
       " SchemaField('iucr', 'STRING', 'NULLABLE', None, (), None),\n",
       " SchemaField('primary_type', 'STRING', 'NULLABLE', None, (), None),\n",
       " SchemaField('description', 'STRING', 'NULLABLE', None, (), None),\n",
       " SchemaField('location_description', 'STRING', 'NULLABLE', None, (), None),\n",
       " SchemaField('arrest', 'BOOLEAN', 'NULLABLE', None, (), None),\n",
       " SchemaField('domestic', 'BOOLEAN', 'NULLABLE', None, (), None),\n",
       " SchemaField('beat', 'INTEGER', 'NULLABLE', None, (), None),\n",
       " SchemaField('district', 'INTEGER', 'NULLABLE', None, (), None),\n",
       " SchemaField('ward', 'INTEGER', 'NULLABLE', None, (), None),\n",
       " SchemaField('community_area', 'INTEGER', 'NULLABLE', None, (), None),\n",
       " SchemaField('fbi_code', 'STRING', 'NULLABLE', None, (), None),\n",
       " SchemaField('x_coordinate', 'FLOAT', 'NULLABLE', None, (), None),\n",
       " SchemaField('y_coordinate', 'FLOAT', 'NULLABLE', None, (), None),\n",
       " SchemaField('year', 'INTEGER', 'NULLABLE', None, (), None),\n",
       " SchemaField('updated_on', 'TIMESTAMP', 'NULLABLE', None, (), None),\n",
       " SchemaField('latitude', 'FLOAT', 'NULLABLE', None, (), None),\n",
       " SchemaField('longitude', 'FLOAT', 'NULLABLE', None, (), None),\n",
       " SchemaField('location', 'STRING', 'NULLABLE', None, (), None)]"
      ]
     },
     "execution_count": 6,
     "metadata": {},
     "output_type": "execute_result"
    }
   ],
   "source": [
    "# Write the code to figure out the answer\n",
    "tables = dataset_ref.table('crime')\n",
    "table = client.get_table(tables)\n",
    "table.schema"
   ]
  },
  {
   "cell_type": "code",
   "execution_count": 7,
   "id": "794673f4",
   "metadata": {
    "execution": {
     "iopub.execute_input": "2024-07-04T07:41:51.418452Z",
     "iopub.status.busy": "2024-07-04T07:41:51.418016Z",
     "iopub.status.idle": "2024-07-04T07:41:51.428236Z",
     "shell.execute_reply": "2024-07-04T07:41:51.426956Z"
    },
    "papermill": {
     "duration": 0.024506,
     "end_time": "2024-07-04T07:41:51.430895",
     "exception": false,
     "start_time": "2024-07-04T07:41:51.406389",
     "status": "completed"
    },
    "tags": []
   },
   "outputs": [
    {
     "data": {
      "application/javascript": [
       "parent.postMessage({\"jupyterEvent\": \"custom.exercise_interaction\", \"data\": {\"outcomeType\": 1, \"valueTowardsCompletion\": 0.3333333333333333, \"interactionType\": 1, \"questionType\": 1, \"questionId\": \"2_CountTimestampFields\", \"learnToolsVersion\": \"0.3.4\", \"failureMessage\": \"\", \"exceptionClass\": \"\", \"trace\": \"\"}}, \"*\")"
      ],
      "text/plain": [
       "<IPython.core.display.Javascript object>"
      ]
     },
     "metadata": {},
     "output_type": "display_data"
    },
    {
     "data": {
      "text/markdown": [
       "<span style=\"color:#33cc33\">Correct</span>"
      ],
      "text/plain": [
       "Correct"
      ]
     },
     "metadata": {},
     "output_type": "display_data"
    }
   ],
   "source": [
    "num_timestamp_fields = 2 # Put your answer here\n",
    "\n",
    "# Check your answer\n",
    "q_2.check()"
   ]
  },
  {
   "cell_type": "markdown",
   "id": "33f2a6c3",
   "metadata": {
    "papermill": {
     "duration": 0.009458,
     "end_time": "2024-07-04T07:41:51.450683",
     "exception": false,
     "start_time": "2024-07-04T07:41:51.441225",
     "status": "completed"
    },
    "tags": []
   },
   "source": [
    "For a hint or the solution, uncomment the appropriate line below."
   ]
  },
  {
   "cell_type": "code",
   "execution_count": 8,
   "id": "053c3867",
   "metadata": {
    "execution": {
     "iopub.execute_input": "2024-07-04T07:41:51.472618Z",
     "iopub.status.busy": "2024-07-04T07:41:51.472176Z",
     "iopub.status.idle": "2024-07-04T07:41:51.477197Z",
     "shell.execute_reply": "2024-07-04T07:41:51.475926Z"
    },
    "papermill": {
     "duration": 0.019471,
     "end_time": "2024-07-04T07:41:51.479910",
     "exception": false,
     "start_time": "2024-07-04T07:41:51.460439",
     "status": "completed"
    },
    "tags": []
   },
   "outputs": [],
   "source": [
    "#q_2.hint()\n",
    "#q_2.solution()"
   ]
  },
  {
   "cell_type": "markdown",
   "id": "5058b87e",
   "metadata": {
    "papermill": {
     "duration": 0.009435,
     "end_time": "2024-07-04T07:41:51.499267",
     "exception": false,
     "start_time": "2024-07-04T07:41:51.489832",
     "status": "completed"
    },
    "tags": []
   },
   "source": [
    "### 3) Create a crime map\n",
    "\n",
    "If you wanted to create a map with a dot at the location of each crime, what are the names of the two fields you likely need to pull out of the `crime` table to plot the crimes on a map?"
   ]
  },
  {
   "cell_type": "code",
   "execution_count": 9,
   "id": "13a98e46",
   "metadata": {
    "execution": {
     "iopub.execute_input": "2024-07-04T07:41:51.520803Z",
     "iopub.status.busy": "2024-07-04T07:41:51.520365Z",
     "iopub.status.idle": "2024-07-04T07:41:52.290234Z",
     "shell.execute_reply": "2024-07-04T07:41:52.288938Z"
    },
    "papermill": {
     "duration": 0.783889,
     "end_time": "2024-07-04T07:41:52.292912",
     "exception": false,
     "start_time": "2024-07-04T07:41:51.509023",
     "status": "completed"
    },
    "tags": []
   },
   "outputs": [
    {
     "data": {
      "text/html": [
       "<div>\n",
       "<style scoped>\n",
       "    .dataframe tbody tr th:only-of-type {\n",
       "        vertical-align: middle;\n",
       "    }\n",
       "\n",
       "    .dataframe tbody tr th {\n",
       "        vertical-align: top;\n",
       "    }\n",
       "\n",
       "    .dataframe thead th {\n",
       "        text-align: right;\n",
       "    }\n",
       "</style>\n",
       "<table border=\"1\" class=\"dataframe\">\n",
       "  <thead>\n",
       "    <tr style=\"text-align: right;\">\n",
       "      <th></th>\n",
       "      <th>unique_key</th>\n",
       "      <th>case_number</th>\n",
       "      <th>date</th>\n",
       "      <th>block</th>\n",
       "      <th>iucr</th>\n",
       "      <th>primary_type</th>\n",
       "      <th>description</th>\n",
       "      <th>location_description</th>\n",
       "      <th>arrest</th>\n",
       "      <th>domestic</th>\n",
       "      <th>...</th>\n",
       "      <th>ward</th>\n",
       "      <th>community_area</th>\n",
       "      <th>fbi_code</th>\n",
       "      <th>x_coordinate</th>\n",
       "      <th>y_coordinate</th>\n",
       "      <th>year</th>\n",
       "      <th>updated_on</th>\n",
       "      <th>latitude</th>\n",
       "      <th>longitude</th>\n",
       "      <th>location</th>\n",
       "    </tr>\n",
       "  </thead>\n",
       "  <tbody>\n",
       "    <tr>\n",
       "      <th>0</th>\n",
       "      <td>13378016</td>\n",
       "      <td>JH163363</td>\n",
       "      <td>2024-02-21 11:15:00+00:00</td>\n",
       "      <td>0000X E WACKER DR</td>\n",
       "      <td>0281</td>\n",
       "      <td>CRIMINAL SEXUAL ASSAULT</td>\n",
       "      <td>NON-AGGRAVATED</td>\n",
       "      <td>APARTMENT</td>\n",
       "      <td>False</td>\n",
       "      <td>False</td>\n",
       "      <td>...</td>\n",
       "      <td>42</td>\n",
       "      <td>32</td>\n",
       "      <td>02</td>\n",
       "      <td>1177009.0</td>\n",
       "      <td>1902589.0</td>\n",
       "      <td>2024</td>\n",
       "      <td>2024-02-29 03:41:36+00:00</td>\n",
       "      <td>41.888046</td>\n",
       "      <td>-87.625414</td>\n",
       "      <td>(41.888045958, -87.625413826)</td>\n",
       "    </tr>\n",
       "    <tr>\n",
       "      <th>1</th>\n",
       "      <td>12561086</td>\n",
       "      <td>JE469458</td>\n",
       "      <td>2021-12-06 11:00:00+00:00</td>\n",
       "      <td>001XX N STATE ST</td>\n",
       "      <td>0281</td>\n",
       "      <td>CRIMINAL SEXUAL ASSAULT</td>\n",
       "      <td>NON-AGGRAVATED</td>\n",
       "      <td>STREET</td>\n",
       "      <td>False</td>\n",
       "      <td>False</td>\n",
       "      <td>...</td>\n",
       "      <td>42</td>\n",
       "      <td>32</td>\n",
       "      <td>02</td>\n",
       "      <td>1176332.0</td>\n",
       "      <td>1901600.0</td>\n",
       "      <td>2021</td>\n",
       "      <td>2021-12-13 03:40:12+00:00</td>\n",
       "      <td>41.885347</td>\n",
       "      <td>-87.627930</td>\n",
       "      <td>(41.885347387, -87.627929824)</td>\n",
       "    </tr>\n",
       "    <tr>\n",
       "      <th>2</th>\n",
       "      <td>12382874</td>\n",
       "      <td>JE228908</td>\n",
       "      <td>2021-05-12 12:00:00+00:00</td>\n",
       "      <td>002XX N STATE ST</td>\n",
       "      <td>0281</td>\n",
       "      <td>CRIMINAL SEXUAL ASSAULT</td>\n",
       "      <td>NON-AGGRAVATED</td>\n",
       "      <td>ALLEY</td>\n",
       "      <td>False</td>\n",
       "      <td>False</td>\n",
       "      <td>...</td>\n",
       "      <td>42</td>\n",
       "      <td>32</td>\n",
       "      <td>02</td>\n",
       "      <td>1176309.0</td>\n",
       "      <td>1902256.0</td>\n",
       "      <td>2021</td>\n",
       "      <td>2021-06-04 03:39:35+00:00</td>\n",
       "      <td>41.887148</td>\n",
       "      <td>-87.627994</td>\n",
       "      <td>(41.887148006, -87.627994483)</td>\n",
       "    </tr>\n",
       "  </tbody>\n",
       "</table>\n",
       "<p>3 rows × 22 columns</p>\n",
       "</div>"
      ],
      "text/plain": [
       "   unique_key case_number                      date              block  iucr  \\\n",
       "0    13378016    JH163363 2024-02-21 11:15:00+00:00  0000X E WACKER DR  0281   \n",
       "1    12561086    JE469458 2021-12-06 11:00:00+00:00   001XX N STATE ST  0281   \n",
       "2    12382874    JE228908 2021-05-12 12:00:00+00:00   002XX N STATE ST  0281   \n",
       "\n",
       "              primary_type     description location_description  arrest  \\\n",
       "0  CRIMINAL SEXUAL ASSAULT  NON-AGGRAVATED            APARTMENT   False   \n",
       "1  CRIMINAL SEXUAL ASSAULT  NON-AGGRAVATED               STREET   False   \n",
       "2  CRIMINAL SEXUAL ASSAULT  NON-AGGRAVATED                ALLEY   False   \n",
       "\n",
       "   domestic  ...  ward  community_area  fbi_code  x_coordinate y_coordinate  \\\n",
       "0     False  ...    42              32        02     1177009.0    1902589.0   \n",
       "1     False  ...    42              32        02     1176332.0    1901600.0   \n",
       "2     False  ...    42              32        02     1176309.0    1902256.0   \n",
       "\n",
       "   year                updated_on   latitude  longitude  \\\n",
       "0  2024 2024-02-29 03:41:36+00:00  41.888046 -87.625414   \n",
       "1  2021 2021-12-13 03:40:12+00:00  41.885347 -87.627930   \n",
       "2  2021 2021-06-04 03:39:35+00:00  41.887148 -87.627994   \n",
       "\n",
       "                        location  \n",
       "0  (41.888045958, -87.625413826)  \n",
       "1  (41.885347387, -87.627929824)  \n",
       "2  (41.887148006, -87.627994483)  \n",
       "\n",
       "[3 rows x 22 columns]"
      ]
     },
     "execution_count": 9,
     "metadata": {},
     "output_type": "execute_result"
    }
   ],
   "source": [
    "# Write the code here to explore the data so you can find the answer\n",
    "client.list_rows(table, max_results = 3).to_dataframe()"
   ]
  },
  {
   "cell_type": "code",
   "execution_count": 10,
   "id": "8719f3ba",
   "metadata": {
    "execution": {
     "iopub.execute_input": "2024-07-04T07:41:52.314711Z",
     "iopub.status.busy": "2024-07-04T07:41:52.314336Z",
     "iopub.status.idle": "2024-07-04T07:41:52.324612Z",
     "shell.execute_reply": "2024-07-04T07:41:52.323624Z"
    },
    "papermill": {
     "duration": 0.024381,
     "end_time": "2024-07-04T07:41:52.327296",
     "exception": false,
     "start_time": "2024-07-04T07:41:52.302915",
     "status": "completed"
    },
    "tags": []
   },
   "outputs": [
    {
     "name": "stdout",
     "output_type": "stream",
     "text": [
      "`'latitude'` and `'longitude'` would be better and more standard than `'x_coordinate'` and `'y_coordinate'`, but this might work.\n"
     ]
    },
    {
     "data": {
      "application/javascript": [
       "parent.postMessage({\"jupyterEvent\": \"custom.exercise_interaction\", \"data\": {\"outcomeType\": 1, \"valueTowardsCompletion\": 0.3333333333333333, \"interactionType\": 1, \"questionType\": 2, \"questionId\": \"3_IdentifyFieldsForPlotting\", \"learnToolsVersion\": \"0.3.4\", \"failureMessage\": \"\", \"exceptionClass\": \"\", \"trace\": \"\"}}, \"*\")"
      ],
      "text/plain": [
       "<IPython.core.display.Javascript object>"
      ]
     },
     "metadata": {},
     "output_type": "display_data"
    },
    {
     "data": {
      "text/markdown": [
       "<span style=\"color:#33cc33\">Correct</span>"
      ],
      "text/plain": [
       "Correct"
      ]
     },
     "metadata": {},
     "output_type": "display_data"
    }
   ],
   "source": [
    "fields_for_plotting = ['x_coordinate', 'y_coordinate'] # Put your answers here\n",
    "\n",
    "# Check your answer\n",
    "q_3.check()"
   ]
  },
  {
   "cell_type": "markdown",
   "id": "abf53cef",
   "metadata": {
    "papermill": {
     "duration": 0.011514,
     "end_time": "2024-07-04T07:41:52.349211",
     "exception": false,
     "start_time": "2024-07-04T07:41:52.337697",
     "status": "completed"
    },
    "tags": []
   },
   "source": [
    "For a hint or the solution, uncomment the appropriate line below."
   ]
  },
  {
   "cell_type": "code",
   "execution_count": 11,
   "id": "dc8bdede",
   "metadata": {
    "execution": {
     "iopub.execute_input": "2024-07-04T07:41:52.372422Z",
     "iopub.status.busy": "2024-07-04T07:41:52.371999Z",
     "iopub.status.idle": "2024-07-04T07:41:52.376659Z",
     "shell.execute_reply": "2024-07-04T07:41:52.375484Z"
    },
    "papermill": {
     "duration": 0.019063,
     "end_time": "2024-07-04T07:41:52.379162",
     "exception": false,
     "start_time": "2024-07-04T07:41:52.360099",
     "status": "completed"
    },
    "tags": []
   },
   "outputs": [],
   "source": [
    "#q_3.hint()\n",
    "#q_3.solution()"
   ]
  },
  {
   "cell_type": "markdown",
   "id": "05bce368",
   "metadata": {
    "papermill": {
     "duration": 0.010166,
     "end_time": "2024-07-04T07:41:52.400030",
     "exception": false,
     "start_time": "2024-07-04T07:41:52.389864",
     "status": "completed"
    },
    "tags": []
   },
   "source": [
    "Thinking about the question above, there are a few columns that appear to have geographic data. Look at a few values (with the `list_rows()` command) to see if you can determine their relationship.  Two columns will still be hard to interpret. But it should be obvious how the `location` column relates to `latitude` and `longitude`."
   ]
  },
  {
   "cell_type": "code",
   "execution_count": 12,
   "id": "16f5178b",
   "metadata": {
    "execution": {
     "iopub.execute_input": "2024-07-04T07:41:52.423069Z",
     "iopub.status.busy": "2024-07-04T07:41:52.422626Z",
     "iopub.status.idle": "2024-07-04T07:41:52.428118Z",
     "shell.execute_reply": "2024-07-04T07:41:52.426687Z"
    },
    "papermill": {
     "duration": 0.020208,
     "end_time": "2024-07-04T07:41:52.430920",
     "exception": false,
     "start_time": "2024-07-04T07:41:52.410712",
     "status": "completed"
    },
    "tags": []
   },
   "outputs": [],
   "source": [
    "# Scratch space for your code"
   ]
  },
  {
   "cell_type": "markdown",
   "id": "6d99d45f",
   "metadata": {
    "papermill": {
     "duration": 0.010367,
     "end_time": "2024-07-04T07:41:52.452394",
     "exception": false,
     "start_time": "2024-07-04T07:41:52.442027",
     "status": "completed"
    },
    "tags": []
   },
   "source": [
    "# Keep going\n",
    "\n",
    "You've looked at the schema, but you haven't yet done anything exciting with the data itself. Things get more interesting when you get to the data, so keep going to **[write your first SQL query](https://www.kaggle.com/dansbecker/select-from-where).**"
   ]
  },
  {
   "cell_type": "markdown",
   "id": "9d8beed5",
   "metadata": {
    "papermill": {
     "duration": 0.010345,
     "end_time": "2024-07-04T07:41:52.473333",
     "exception": false,
     "start_time": "2024-07-04T07:41:52.462988",
     "status": "completed"
    },
    "tags": []
   },
   "source": [
    "---\n",
    "\n",
    "\n",
    "\n",
    "\n",
    "*Have questions or comments? Visit the [course discussion forum](https://www.kaggle.com/learn/intro-to-sql/discussion) to chat with other learners.*"
   ]
  }
 ],
 "metadata": {
  "kaggle": {
   "accelerator": "none",
   "dataSources": [
    {
     "datasetId": 22090,
     "sourceId": 28376,
     "sourceType": "datasetVersion"
    },
    {
     "datasetId": 6057,
     "sourceId": 285982,
     "sourceType": "datasetVersion"
    }
   ],
   "isGpuEnabled": false,
   "isInternetEnabled": false,
   "language": "python",
   "sourceType": "notebook"
  },
  "kernelspec": {
   "display_name": "Python 3",
   "language": "python",
   "name": "python3"
  },
  "language_info": {
   "codemirror_mode": {
    "name": "ipython",
    "version": 3
   },
   "file_extension": ".py",
   "mimetype": "text/x-python",
   "name": "python",
   "nbconvert_exporter": "python",
   "pygments_lexer": "ipython3",
   "version": "3.10.13"
  },
  "papermill": {
   "default_parameters": {},
   "duration": 15.312821,
   "end_time": "2024-07-04T07:41:53.306668",
   "environment_variables": {},
   "exception": null,
   "input_path": "__notebook__.ipynb",
   "output_path": "__notebook__.ipynb",
   "parameters": {},
   "start_time": "2024-07-04T07:41:37.993847",
   "version": "2.5.0"
  }
 },
 "nbformat": 4,
 "nbformat_minor": 5
}
